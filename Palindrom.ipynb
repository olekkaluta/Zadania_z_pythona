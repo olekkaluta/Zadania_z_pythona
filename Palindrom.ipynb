{
 "cells": [
  {
   "cell_type": "code",
   "execution_count": 3,
   "id": "2cfb0a4a",
   "metadata": {},
   "outputs": [
    {
     "name": "stdout",
     "output_type": "stream",
     "text": [
      "Podaj słowo: kajak\n",
      "Podane słowo jest palindromem.\n"
     ]
    }
   ],
   "source": [
    "def czy_palindrom(slowo):\n",
    "    odwrocone_slowo = slowo[::-1]  # Odwracanie słowa za pomocą wycinania\n",
    "    if slowo == odwrocone_slowo:\n",
    "        return True\n",
    "    else:\n",
    "        return False\n",
    "\n",
    "slowo = input(\"Podaj słowo: \")\n",
    "if czy_palindrom(slowo):\n",
    "    print(\"Podane słowo jest palindromem.\")\n",
    "else:\n",
    "    print(\"Podane słowo nie jest palindromem.\")"
   ]
  },
  {
   "cell_type": "code",
   "execution_count": null,
   "id": "6cfa868b",
   "metadata": {},
   "outputs": [],
   "source": []
  }
 ],
 "metadata": {
  "kernelspec": {
   "display_name": "Python 3 (ipykernel)",
   "language": "python",
   "name": "python3"
  },
  "language_info": {
   "codemirror_mode": {
    "name": "ipython",
    "version": 3
   },
   "file_extension": ".py",
   "mimetype": "text/x-python",
   "name": "python",
   "nbconvert_exporter": "python",
   "pygments_lexer": "ipython3",
   "version": "3.9.15"
  }
 },
 "nbformat": 4,
 "nbformat_minor": 5
}
