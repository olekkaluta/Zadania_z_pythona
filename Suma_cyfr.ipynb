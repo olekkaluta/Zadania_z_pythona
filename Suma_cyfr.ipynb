{
 "cells": [
  {
   "cell_type": "code",
   "execution_count": 3,
   "id": "8d0450ac",
   "metadata": {},
   "outputs": [
    {
     "name": "stdout",
     "output_type": "stream",
     "text": [
      "Podaj liczbę: 3409521857932\n",
      "Suma cyfr wynosi: 58\n"
     ]
    }
   ],
   "source": [
    "def suma_cyfr(liczba):\n",
    "    suma = 0\n",
    "    for cyfra in str(liczba):\n",
    "        suma += int(cyfra)\n",
    "    return suma\n",
    "\n",
    "liczba = int(input(\"Podaj liczbę: \"))\n",
    "wynik = suma_cyfr(liczba)\n",
    "print(\"Suma cyfr wynosi:\", wynik)"
   ]
  },
  {
   "cell_type": "code",
   "execution_count": null,
   "id": "e1461939",
   "metadata": {},
   "outputs": [],
   "source": []
  }
 ],
 "metadata": {
  "kernelspec": {
   "display_name": "Python 3 (ipykernel)",
   "language": "python",
   "name": "python3"
  },
  "language_info": {
   "codemirror_mode": {
    "name": "ipython",
    "version": 3
   },
   "file_extension": ".py",
   "mimetype": "text/x-python",
   "name": "python",
   "nbconvert_exporter": "python",
   "pygments_lexer": "ipython3",
   "version": "3.9.15"
  }
 },
 "nbformat": 4,
 "nbformat_minor": 5
}
